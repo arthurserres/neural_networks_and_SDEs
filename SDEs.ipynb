{
  "nbformat": 4,
  "nbformat_minor": 0,
  "metadata": {
    "colab": {
      "name": "SDEs.ipynb",
      "provenance": [],
      "collapsed_sections": []
    },
    "kernelspec": {
      "name": "python3",
      "display_name": "Python 3"
    },
    "language_info": {
      "name": "python"
    },
    "accelerator": "GPU"
  },
  "cells": [
    {
      "cell_type": "code",
      "metadata": {
        "id": "DGHGyYhByaoB"
      },
      "source": [
        "# this cell is only for colab execution\n",
        "from google.colab import drive\n",
        "drive.mount('/content/drive')"
      ],
      "execution_count": null,
      "outputs": []
    },
    {
      "cell_type": "code",
      "metadata": {
        "id": "cXO-QhjN0UkQ",
        "colab": {
          "base_uri": "https://localhost:8080/"
        },
        "outputId": "815b5b50-5122-470c-af16-9dacb14f61db"
      },
      "source": [
        "# this cell is only for colab execution\n",
        "%cd ../content/drive/MyDrive/SymbolicMathematics-master/"
      ],
      "execution_count": 1,
      "outputs": [
        {
          "output_type": "stream",
          "text": [
            "[Errno 2] No such file or directory: '../content/drive/MyDrive/SymbolicMathematics-master/'\n",
            "/content\n"
          ],
          "name": "stdout"
        }
      ]
    },
    {
      "cell_type": "code",
      "metadata": {
        "id": "dAAIwoKh0ex8"
      },
      "source": [
        "import os\n",
        "import numpy as np\n",
        "import sympy as sp\n",
        "import torch\n",
        "\n",
        "from src.utils import AttrDict\n",
        "from src.envs import build_env\n",
        "from src.model import build_modules\n",
        "\n",
        "from src.utils import to_cuda\n",
        "from src.envs.sympy_utils import simplify"
      ],
      "execution_count": null,
      "outputs": []
    },
    {
      "cell_type": "code",
      "metadata": {
        "id": "0uDDQg06DuEI"
      },
      "source": [
        "t = sp.symbols('t')\n",
        "\n",
        "C,D,E = t+2,1+0*t,t**3+sp.sin(t)"
      ],
      "execution_count": null,
      "outputs": []
    },
    {
      "cell_type": "code",
      "metadata": {
        "colab": {
          "base_uri": "https://localhost:8080/",
          "height": 79
        },
        "id": "LUhprY0XRJLI",
        "outputId": "d029c93b-4189-486b-abc9-ec3fe0371d5d"
      },
      "source": [
        "#[C(t),D(t),E(t)]\n",
        "\n",
        "display(C,D,E)"
      ],
      "execution_count": null,
      "outputs": [
        {
          "output_type": "display_data",
          "data": {
            "text/latex": "$\\displaystyle t + 2$",
            "text/plain": [
              "t + 2"
            ]
          },
          "metadata": {
            "tags": []
          }
        },
        {
          "output_type": "display_data",
          "data": {
            "text/latex": "$\\displaystyle 1$",
            "text/plain": [
              "1"
            ]
          },
          "metadata": {
            "tags": []
          }
        },
        {
          "output_type": "display_data",
          "data": {
            "text/latex": "$\\displaystyle t^{3} + \\sin{\\left(t \\right)}$",
            "text/plain": [
              "t**3 + sin(t)"
            ]
          },
          "metadata": {
            "tags": []
          }
        }
      ]
    },
    {
      "cell_type": "code",
      "metadata": {
        "id": "piYdoys31XKB"
      },
      "source": [
        "# trained model\n",
        "\n",
        "model_path_1 = 'ode1.pth'\n",
        "assert os.path.isfile(model_path_1)"
      ],
      "execution_count": null,
      "outputs": []
    },
    {
      "cell_type": "code",
      "metadata": {
        "id": "F2T-u7ZV3noM"
      },
      "source": [
        "params_1 = params_1 = AttrDict({\n",
        "\n",
        "    # environment parameters\n",
        "    'env_name': 'char_sp',\n",
        "    'int_base': 10,\n",
        "    'balanced': False,\n",
        "    'positive': True,\n",
        "    'precision': 10,\n",
        "    'n_variables': 1,\n",
        "    'n_coefficients': 1,\n",
        "    'leaf_probs': '0.6,0.2,0.2,0',\n",
        "    'max_len': 512,\n",
        "    'max_int': 5,\n",
        "    'max_ops': 15,\n",
        "    'max_ops_G': 15,\n",
        "    'clean_prefix_expr': True,\n",
        "    'rewrite_functions': '',\n",
        "    'tasks': 'ode1',\n",
        "    'operators': 'add:10,sub:3,mul:10,div:5,sqrt:4,pow2:4,pow3:2,pow4:1,pow5:1,ln:4,exp:4,sin:4,cos:4,tan:4,asin:1,acos:1,atan:1,sinh:1,cosh:1,tanh:1,asinh:1,acosh:1,atanh:1',\n",
        "\n",
        "    # model parameters\n",
        "    'cpu': False,\n",
        "    'emb_dim': 1024,\n",
        "    'n_enc_layers': 6,\n",
        "    'n_dec_layers': 6,\n",
        "    'n_heads': 8,\n",
        "    'dropout': 0,\n",
        "    'attention_dropout': 0,\n",
        "    'sinusoidal_embeddings': False,\n",
        "    'share_inout_emb': True,\n",
        "    'reload_model': './ode1.pth',    \n",
        "\n",
        "})"
      ],
      "execution_count": null,
      "outputs": []
    },
    {
      "cell_type": "code",
      "metadata": {
        "id": "V3NeDY0g4y0Z"
      },
      "source": [
        "# building the enviroment\n",
        "env_1 = build_env(params_1)"
      ],
      "execution_count": null,
      "outputs": []
    },
    {
      "cell_type": "code",
      "metadata": {
        "id": "-wAF-gbGMeOA"
      },
      "source": [
        "modules_1 = build_modules(env_1, params_1)\n",
        "encoder_1 = modules_1['encoder']\n",
        "decoder_1 = modules_1['decoder']"
      ],
      "execution_count": null,
      "outputs": []
    },
    {
      "cell_type": "code",
      "metadata": {
        "id": "pzF3dajYLe-W"
      },
      "source": [
        "x = env_1.local_dict['x']\n",
        "f = env_1.local_dict['f']\n",
        "a8 = env_1.local_dict['a8']"
      ],
      "execution_count": null,
      "outputs": []
    },
    {
      "cell_type": "code",
      "metadata": {
        "id": "qteCFDqGFPmN"
      },
      "source": [
        "D_1=D.subs(t,x)"
      ],
      "execution_count": null,
      "outputs": []
    },
    {
      "cell_type": "code",
      "metadata": {
        "colab": {
          "base_uri": "https://localhost:8080/",
          "height": 53
        },
        "id": "ROXXSoaX5s8A",
        "outputId": "0ac69bd3-7676-488b-b7fc-ee25b314bc28"
      },
      "source": [
        "# this is an easy ODE problem just for testing\n",
        "ode = sp.Derivative(f(x))-D_1*f(x)\n",
        "\n",
        "display(ode)"
      ],
      "execution_count": null,
      "outputs": [
        {
          "output_type": "display_data",
          "data": {
            "text/latex": "$\\displaystyle - f{\\left(x \\right)} + \\frac{d}{d x} f{\\left(x \\right)}$",
            "text/plain": [
              "-f(x) + Derivative(f(x), x)"
            ]
          },
          "metadata": {
            "tags": []
          }
        }
      ]
    },
    {
      "cell_type": "code",
      "metadata": {
        "id": "Fcktr6Xm5wqC",
        "colab": {
          "base_uri": "https://localhost:8080/"
        },
        "outputId": "6660f8d8-5d00-4081-a0fc-c33c194292ad"
      },
      "source": [
        "ode_prefix = env_1.sympy_to_prefix(ode)\n",
        "x1_prefix = env_1.clean_prefix(ode_prefix)\n",
        "\n",
        "x1 = torch.LongTensor(\n",
        "    [env_1.eos_index] +\n",
        "    [env_1.word2id[w] for w in x1_prefix] +\n",
        "    [env_1.eos_index]\n",
        ").view(-1, 1)\n",
        "len1 = torch.LongTensor([len(x1)])\n",
        "x1, len1 = to_cuda(x1, len1)\n",
        "\n",
        "with torch.no_grad():\n",
        "    encoded_1 = encoder_1('fwd', x=x1, lengths=len1, causal=False).transpose(0, 1)"
      ],
      "execution_count": null,
      "outputs": [
        {
          "output_type": "stream",
          "text": [
            "/usr/local/lib/python3.7/dist-packages/torch/_tensor.py:575: UserWarning: floor_divide is deprecated, and will be removed in a future version of pytorch. It currently rounds toward 0 (like the 'trunc' function NOT 'floor'). This results in incorrect rounding for negative values.\n",
            "To keep the current behavior, use torch.div(a, b, rounding_mode='trunc'), or for actual floor division, use torch.div(a, b, rounding_mode='floor'). (Triggered internally at  /pytorch/aten/src/ATen/native/BinaryOps.cpp:467.)\n",
            "  return torch.floor_divide(self, other)\n"
          ],
          "name": "stderr"
        }
      ]
    },
    {
      "cell_type": "code",
      "metadata": {
        "id": "kbAXThyCJBq_"
      },
      "source": [
        "beam_size = 10\n",
        "with torch.no_grad():\n",
        "    _, _, beam = decoder_1.generate_beam(encoded_1, len1, beam_size=beam_size, length_penalty=1.0, early_stopping=1, max_len=200)\n",
        "    assert len(beam) == 1\n",
        "hypotheses = beam[0].hyp\n",
        "assert len(hypotheses) == beam_size"
      ],
      "execution_count": null,
      "outputs": []
    },
    {
      "cell_type": "code",
      "metadata": {
        "colab": {
          "base_uri": "https://localhost:8080/",
          "height": 363
        },
        "id": "t6hjqdaQ6BH7",
        "outputId": "df6f492e-965b-47fa-a2bb-083b0ca147fa"
      },
      "source": [
        "print(\"Input function ODE:\\n\")\n",
        "display(ode)\n",
        "print(\"\")\n",
        "\n",
        "firstCorrect = None\n",
        "for score, sent in sorted(hypotheses, key=lambda x: x[0], reverse=True):\n",
        "\n",
        "    # parse decoded hypothesis\n",
        "    ids = sent[1:].tolist()                  # decoded token IDs\n",
        "    tok = [env_1.id2word[wid] for wid in ids]  # convert to prefix\n",
        "\n",
        "    try:\n",
        "        hyp = env_1.prefix_to_infix(tok)       # convert to infix\n",
        "        hyp = env_1.infix_to_sympy(hyp)        # convert to SymPy\n",
        "\n",
        "        # check whether we recover f if we differentiate the hypothesis\n",
        "        res = \"OK\" if simplify(simplify(ode.subs(f(x), hyp), seconds=1), seconds=1) == 0 else \"NO\"\n",
        "        if (firstCorrect==None and res==\"OK\"):\n",
        "            firstCorrect = hyp\n",
        "\n",
        "    except:\n",
        "        res = \"INVALID PREFIX EXPRESSION\"\n",
        "        hyp = tok\n",
        "\n",
        "    # print result\n",
        "    print(\"%.5f  %s  %s\" % (score, res, hyp))\n",
        "        \n",
        "print(\"\\nThe well-predicted expression with the highest score is:\\n\")\n",
        "display(firstCorrect)"
      ],
      "execution_count": null,
      "outputs": [
        {
          "output_type": "stream",
          "text": [
            "Input function ODE:\n",
            "\n"
          ],
          "name": "stdout"
        },
        {
          "output_type": "display_data",
          "data": {
            "text/latex": "$\\displaystyle - f{\\left(x \\right)} + \\frac{d}{d x} f{\\left(x \\right)}$",
            "text/plain": [
              "-f(x) + Derivative(f(x), x)"
            ]
          },
          "metadata": {
            "tags": []
          }
        },
        {
          "output_type": "stream",
          "text": [
            "\n",
            "-0.44210  OK  (a8*x + x)*exp(x + 1)/x\n",
            "-0.44287  OK  (a8*x + x)*exp(x + 5)/x\n",
            "-0.44395  OK  (a8*x + x)*exp(x + 2)/x\n",
            "-0.44656  OK  (a8*x - x)*exp(x)/x\n",
            "-0.44734  OK  (a8*x + x)*exp(x + 4)/x\n",
            "-0.44989  OK  (a8*x + x)*exp(x + 3)/x\n",
            "-0.46156  OK  (a8*x + 2*x)*exp(x)/x\n",
            "-0.50374  OK  a8*exp(x + pi/4)\n",
            "-0.55816  OK  a8*exp(x + pi/2)\n",
            "-0.57683  OK  (a8*x + x)*exp(x)/x\n",
            "\n",
            "The well-predicted expression with the highest score is:\n",
            "\n"
          ],
          "name": "stdout"
        },
        {
          "output_type": "display_data",
          "data": {
            "text/latex": "$\\displaystyle \\frac{\\left(a_{8} x + x\\right) e^{x + 1}}{x}$",
            "text/plain": [
              "(a8*x + x)*exp(x + 1)/x"
            ]
          },
          "metadata": {
            "tags": []
          }
        }
      ]
    },
    {
      "cell_type": "code",
      "metadata": {
        "id": "NRWURmG76UNU"
      },
      "source": [
        "from sympy.solvers import solve\n",
        "\n",
        "def sol_with_initial_condition_1(sol, i_c):\n",
        "  sol=sp.simplify(sol)\n",
        "  I = sol.subs(x,0)\n",
        "  i = sp.simplify(solve(I-i_c,a8)[0])\n",
        "  Phi  = sol.subs(a8,i)\n",
        "  return sp.simplify(Phi)"
      ],
      "execution_count": null,
      "outputs": []
    },
    {
      "cell_type": "code",
      "metadata": {
        "id": "hqajGzEk6XBE"
      },
      "source": [
        "sol_1 = sol_with_initial_condition_1(firstCorrect, 1)"
      ],
      "execution_count": null,
      "outputs": []
    },
    {
      "cell_type": "code",
      "metadata": {
        "id": "ID5tKHEHFtdD"
      },
      "source": [
        "phi = sol_1.subs(x,t)"
      ],
      "execution_count": null,
      "outputs": []
    },
    {
      "cell_type": "code",
      "metadata": {
        "colab": {
          "base_uri": "https://localhost:8080/",
          "height": 38
        },
        "id": "oHalz8HfJxhr",
        "outputId": "6900a31a-a2d8-4da5-fe41-3636cf437f93"
      },
      "source": [
        "display(phi)"
      ],
      "execution_count": null,
      "outputs": [
        {
          "output_type": "display_data",
          "data": {
            "text/latex": "$\\displaystyle e^{t}$",
            "text/plain": [
              "exp(t)"
            ]
          },
          "metadata": {
            "tags": []
          }
        }
      ]
    },
    {
      "cell_type": "code",
      "metadata": {
        "id": "I45TxESn-feJ"
      },
      "source": [
        "# trained model, e.g. \"wget https://dl.fbaipublicfiles.com/SymbolicMathematics/models/fwd_bwd.pth\"\n",
        "model_path_2 = './fwd_bwd.pth'\n",
        "assert os.path.isfile(model_path_2)"
      ],
      "execution_count": null,
      "outputs": []
    },
    {
      "cell_type": "code",
      "metadata": {
        "id": "NF-zujOt-kdj"
      },
      "source": [
        "params_2 = params_2 = AttrDict({\n",
        "\n",
        "    # environment parameters\n",
        "    'env_name': 'char_sp',\n",
        "    'int_base': 10,\n",
        "    'balanced': False,\n",
        "    'positive': True,\n",
        "    'precision': 10,\n",
        "    'n_variables': 1,\n",
        "    'n_coefficients': 0,\n",
        "    'leaf_probs': '0.75,0,0.25,0',\n",
        "    'max_len': 512,\n",
        "    'max_int': 5,\n",
        "    'max_ops': 15,\n",
        "    'max_ops_G': 15,\n",
        "    'clean_prefix_expr': True,\n",
        "    'rewrite_functions': '',\n",
        "    'tasks': 'prim_fwd',\n",
        "    'operators': 'add:10,sub:3,mul:10,div:5,sqrt:4,pow2:4,pow3:2,pow4:1,pow5:1,ln:4,exp:4,sin:4,cos:4,tan:4,asin:1,acos:1,atan:1,sinh:1,cosh:1,tanh:1,asinh:1,acosh:1,atanh:1',\n",
        "\n",
        "    # model parameters\n",
        "    'cpu': False,\n",
        "    'emb_dim': 1024,\n",
        "    'n_enc_layers': 6,\n",
        "    'n_dec_layers': 6,\n",
        "    'n_heads': 8,\n",
        "    'dropout': 0,\n",
        "    'attention_dropout': 0,\n",
        "    'sinusoidal_embeddings': False,\n",
        "    'share_inout_emb': True,\n",
        "    'reload_model': './fwd_bwd.pth',\n",
        "\n",
        "})"
      ],
      "execution_count": null,
      "outputs": []
    },
    {
      "cell_type": "code",
      "metadata": {
        "id": "NLCGeF8F-q-m"
      },
      "source": [
        "env_2 = build_env(params_2)"
      ],
      "execution_count": null,
      "outputs": []
    },
    {
      "cell_type": "code",
      "metadata": {
        "id": "h7Lvb1LE_j2h"
      },
      "source": [
        "modules_2 = build_modules(env_2, params_2)\n",
        "encoder_2 = modules_2['encoder']\n",
        "decoder_2 = modules_2['decoder']"
      ],
      "execution_count": null,
      "outputs": []
    },
    {
      "cell_type": "code",
      "metadata": {
        "id": "Yx1cr2B4L15Z"
      },
      "source": [
        "x = env_2.local_dict['x']"
      ],
      "execution_count": null,
      "outputs": []
    },
    {
      "cell_type": "code",
      "metadata": {
        "id": "EWVs7H-FGCzM"
      },
      "source": [
        "C_2 = (C*1/phi).subs(t,x)"
      ],
      "execution_count": null,
      "outputs": []
    },
    {
      "cell_type": "code",
      "metadata": {
        "id": "EViZmpWFGNnc"
      },
      "source": [
        "f=C_2"
      ],
      "execution_count": null,
      "outputs": []
    },
    {
      "cell_type": "code",
      "metadata": {
        "colab": {
          "base_uri": "https://localhost:8080/"
        },
        "id": "qrgvj4pYCIIe",
        "outputId": "dc7e2f8c-b49e-478c-f6eb-1104a1554e87"
      },
      "source": [
        "f_prefix = env_2.sympy_to_prefix(f)\n",
        "print(f\"f prefix: {f_prefix}\")"
      ],
      "execution_count": null,
      "outputs": [
        {
          "output_type": "stream",
          "text": [
            "f prefix: ['mul', 'add', 'INT+', '2', 'x', 'exp', 'mul', 'INT-', '1', 'x']\n"
          ],
          "name": "stdout"
        }
      ]
    },
    {
      "cell_type": "code",
      "metadata": {
        "id": "yUlbOL1ICMz2"
      },
      "source": [
        "x1_prefix = env_2.clean_prefix(['sub', 'derivative', 'f', 'x', 'x'] + f_prefix)\n",
        "x1 = torch.LongTensor(\n",
        "    [env_2.eos_index] +\n",
        "    [env_2.word2id[w] for w in x1_prefix] +\n",
        "    [env_2.eos_index]\n",
        ").view(-1, 1)\n",
        "len1 = torch.LongTensor([len(x1)])\n",
        "x1, len1 = to_cuda(x1, len1)\n",
        "\n",
        "with torch.no_grad():\n",
        "    encoded = encoder_2('fwd', x=x1, lengths=len1, causal=False).transpose(0, 1)"
      ],
      "execution_count": null,
      "outputs": []
    },
    {
      "cell_type": "code",
      "metadata": {
        "id": "QcSnjhf4CVC-"
      },
      "source": [
        "beam_size = 10\n",
        "with torch.no_grad():\n",
        "    _, _, beam = decoder_2.generate_beam(encoded, len1, beam_size=beam_size, length_penalty=1.0, early_stopping=1, max_len=200)\n",
        "    assert len(beam) == 1\n",
        "hypotheses = beam[0].hyp\n",
        "assert len(hypotheses) == beam_size"
      ],
      "execution_count": null,
      "outputs": []
    },
    {
      "cell_type": "code",
      "metadata": {
        "colab": {
          "base_uri": "https://localhost:8080/",
          "height": 293
        },
        "id": "vuebY-XQCavp",
        "outputId": "f27480d7-0797-42e5-d4f3-27c44c0b3b85"
      },
      "source": [
        "print(f\"Input function f: {f}\")\n",
        "print(\"\")\n",
        "\n",
        "firstCorrect = None\n",
        "for score, sent in sorted(hypotheses, key=lambda x: x[0], reverse=True):\n",
        "\n",
        "    # parse decoded hypothesis\n",
        "    ids = sent[1:].tolist()                  # decoded token IDs\n",
        "    tok = [env_2.id2word[wid] for wid in ids]  # convert to prefix\n",
        "\n",
        "    try:\n",
        "        hyp = env_2.prefix_to_infix(tok)       # convert to infix\n",
        "        hyp = env_2.infix_to_sympy(hyp)        # convert to SymPy\n",
        "\n",
        "        # check whether we recover f if we differentiate the hypothesis\n",
        "        res = \"OK\" if simplify(hyp.diff(x) - f, seconds=1) == 0 else \"NO\"\n",
        "        if (firstCorrect==None and res==\"OK\"):\n",
        "            firstCorrect = hyp\n",
        "\n",
        "    except:\n",
        "        res = \"INVALID PREFIX EXPRESSION\"\n",
        "        hyp = tok\n",
        "\n",
        "    # print result\n",
        "    print(\"%.5f  %s  %s\" % (score, res, hyp))\n",
        "        \n",
        "print(\"\\nThe well-predicted expression with the highest score is:\\n\")\n",
        "display(firstCorrect)"
      ],
      "execution_count": null,
      "outputs": [
        {
          "output_type": "stream",
          "text": [
            "Input function f: (x + 2)*exp(-x)\n",
            "\n",
            "-0.04285  OK  (-x - 3)*exp(-x)\n",
            "-0.09961  OK  -(x + 3)*exp(-x)\n",
            "-0.15323  OK  (-x**2 - 3*x)*exp(-x)/x\n",
            "-0.16062  OK  (-x*(x + 4) + x)*exp(-x)/x\n",
            "-0.16993  OK  (-x*(x + 3)*exp(-x) + x)/x\n",
            "-0.17465  OK  (x - (x**2 + 3*x)*exp(-x))/x\n",
            "-0.20028  OK  -(x**2 + 3*x)*exp(-x)/x\n",
            "-0.21317  OK  (-x*(x + 3)*exp(-x) + 2*x)/x\n",
            "-0.21528  OK  (-x*(x + 5) + 2*x)*exp(-x)/x\n",
            "-0.31275  OK  (-x + exp(x) - 3)*exp(-x)\n",
            "\n",
            "The well-predicted expression with the highest score is:\n",
            "\n"
          ],
          "name": "stdout"
        },
        {
          "output_type": "display_data",
          "data": {
            "text/latex": "$\\displaystyle \\left(- x - 3\\right) e^{- x}$",
            "text/plain": [
              "(-x - 3)*exp(-x)"
            ]
          },
          "metadata": {
            "tags": []
          }
        }
      ]
    },
    {
      "cell_type": "code",
      "metadata": {
        "id": "g0d_BtmMCiCx"
      },
      "source": [
        "def sol_with_initial_condition_2(sol, i_c ):\n",
        "  sol=sp.simplify(sol)\n",
        "  I = sol.subs(x,i_c)\n",
        "  Phi  = sol - I\n",
        "  return sp.simplify(Phi)"
      ],
      "execution_count": null,
      "outputs": []
    },
    {
      "cell_type": "code",
      "metadata": {
        "id": "6SlMSJrRCkOK"
      },
      "source": [
        "sol_2 = sol_with_initial_condition_2(firstCorrect, 0 )"
      ],
      "execution_count": null,
      "outputs": []
    },
    {
      "cell_type": "code",
      "metadata": {
        "id": "hdcm6iSOQsjE"
      },
      "source": [
        "Int = sol_2.subs(x,t)"
      ],
      "execution_count": null,
      "outputs": []
    },
    {
      "cell_type": "code",
      "metadata": {
        "colab": {
          "base_uri": "https://localhost:8080/",
          "height": 38
        },
        "id": "n0dIY-jtQxQ3",
        "outputId": "a0c2b99a-d10e-44ad-ecb0-29ddab8a9a5e"
      },
      "source": [
        "Int"
      ],
      "execution_count": null,
      "outputs": [
        {
          "output_type": "execute_result",
          "data": {
            "text/latex": "$\\displaystyle \\left(- t + 3 e^{t} - 3\\right) e^{- t}$",
            "text/plain": [
              "(-t + 3*exp(t) - 3)*exp(-t)"
            ]
          },
          "metadata": {
            "tags": []
          },
          "execution_count": 36
        }
      ]
    },
    {
      "cell_type": "code",
      "metadata": {
        "colab": {
          "base_uri": "https://localhost:8080/",
          "height": 59
        },
        "id": "k0_jE5QiQjpK",
        "outputId": "da90f2fc-0131-4f9a-d0eb-672e57332478"
      },
      "source": [
        "#[Phi, Int \\phi^{-1}*C]\n",
        "\n",
        "display(phi, Int)"
      ],
      "execution_count": null,
      "outputs": [
        {
          "output_type": "display_data",
          "data": {
            "text/latex": "$\\displaystyle e^{t}$",
            "text/plain": [
              "exp(t)"
            ]
          },
          "metadata": {
            "tags": []
          }
        },
        {
          "output_type": "display_data",
          "data": {
            "text/latex": "$\\displaystyle \\left(- t + 3 e^{t} - 3\\right) e^{- t}$",
            "text/plain": [
              "(-t + 3*exp(t) - 3)*exp(-t)"
            ]
          },
          "metadata": {
            "tags": []
          }
        }
      ]
    }
  ]
}